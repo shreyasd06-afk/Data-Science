{
 "cells": [
  {
   "cell_type": "markdown",
   "id": "26b478f7-2bad-46e8-8249-d48111f8ac17",
   "metadata": {},
   "source": [
    "Name:Shreya Deshmukh\n",
    "Branch:Computer\n",
    "Task:Set,List,Touple Methods"
   ]
  },
  {
   "cell_type": "code",
   "execution_count": 2,
   "id": "95a9a65e-e5b1-4725-9b2f-c3bf0121ef73",
   "metadata": {},
   "outputs": [
    {
     "name": "stdout",
     "output_type": "stream",
     "text": [
      "Original List: ['apple', 'banana', 'cherry', 'apple', 'banana']\n",
      "After append: ['apple', 'banana', 'cherry', 'apple', 'banana', 'orange']\n",
      "After insert: ['apple', 'grape', 'banana', 'cherry', 'apple', 'banana', 'orange']\n",
      "After remove (first 'banana'): ['apple', 'grape', 'cherry', 'apple', 'banana', 'orange']\n",
      "After pop: ['apple', 'grape', 'cherry', 'apple', 'banana']\n",
      "Count of 'apple': 2\n",
      "Index of 'cherry': 2\n",
      "After reverse: ['banana', 'apple', 'cherry', 'grape', 'apple']\n",
      "After sort: ['apple', 'apple', 'banana', 'cherry', 'grape']\n",
      "After clear: []\n"
     ]
    }
   ],
   "source": [
    "fruits = [\"apple\", \"banana\", \"cherry\", \"apple\", \"banana\"]\n",
    "\n",
    "print(\"Original List:\", fruits)\n",
    "\n",
    "fruits.append(\"orange\")\n",
    "print(\"After append:\", fruits)\n",
    "\n",
    "fruits.insert(1, \"grape\")\n",
    "print(\"After insert:\", fruits)\n",
    "\n",
    "fruits.remove(\"banana\")\n",
    "print(\"After remove (first 'banana'):\", fruits)\n",
    "\n",
    "fruits.pop()\n",
    "print(\"After pop:\", fruits)\n",
    "\n",
    "print(\"Count of 'apple':\", fruits.count(\"apple\"))\n",
    "\n",
    "print(\"Index of 'cherry':\", fruits.index(\"cherry\"))\n",
    "\n",
    "fruits.reverse()\n",
    "print(\"After reverse:\", fruits)\n",
    "\n",
    "fruits.sort()\n",
    "print(\"After sort:\", fruits)\n",
    "\n",
    "fruits.clear()\n",
    "print(\"After clear:\", fruits)"
   ]
  },
  {
   "cell_type": "code",
   "execution_count": 3,
   "id": "de5311ff-2017-430f-be91-a855d018dc01",
   "metadata": {},
   "outputs": [
    {
     "name": "stdout",
     "output_type": "stream",
     "text": [
      "Set 1: {1, 2, 3, 4}\n",
      "Set 2: {3, 4, 5, 6}\n",
      "After add: {1, 2, 3, 4, 7}\n",
      "After update: {1, 2, 3, 4, 7, 8, 9}\n",
      "After remove: {1, 2, 3, 4, 7, 8}\n",
      "After discard: {1, 2, 3, 4, 7, 8}\n",
      "Union: {1, 2, 3, 4, 5, 6, 7, 8}\n",
      "Intersection: {3, 4}\n",
      "Difference: {8, 1, 2, 7}\n",
      "Symmetric Difference: {1, 2, 5, 6, 7, 8}\n",
      "After clear: set()\n"
     ]
    }
   ],
   "source": [
    "set1 = {1, 2, 3, 4}\n",
    "set2 = {3, 4, 5, 6}\n",
    "\n",
    "print(\"Set 1:\", set1)\n",
    "print(\"Set 2:\", set2)\n",
    "\n",
    "set1.add(7)\n",
    "print(\"After add:\", set1)\n",
    "\n",
    "set1.update([8, 9])\n",
    "print(\"After update:\", set1)\n",
    "\n",
    "set1.remove(9)\n",
    "print(\"After remove:\", set1)\n",
    "\n",
    "set1.discard(100) \n",
    "print(\"After discard:\", set1)\n",
    "\n",
    "print(\"Union:\", set1.union(set2))\n",
    "\n",
    "print(\"Intersection:\", set1.intersection(set2))\n",
    "\n",
    "print(\"Difference:\", set1.difference(set2))\n",
    "\n",
    "print(\"Symmetric Difference:\", set1.symmetric_difference(set2))\n",
    "\n",
    "set1.clear()\n",
    "print(\"After clear:\", set1)"
   ]
  },
  {
   "cell_type": "code",
   "execution_count": 5,
   "id": "6629aa9c-1aee-46a6-a235-48c1e5ae530d",
   "metadata": {},
   "outputs": [
    {
     "name": "stdout",
     "output_type": "stream",
     "text": [
      "Original Tuple: ('apple', 'banana', 'cherry', 'apple', 'banana')\n",
      "Count of 'apple': 2\n",
      "Index of 'cherry': 2\n",
      "First 3 elements: ('apple', 'banana', 'cherry')\n"
     ]
    }
   ],
   "source": [
    "tuple = (\"apple\", \"banana\", \"cherry\", \"apple\", \"banana\")\n",
    "\n",
    "print(\"Original Tuple:\", tuple)\n",
    "\n",
    "print(\"Count of 'apple':\", tuple.count(\"apple\"))\n",
    "\n",
    "print(\"Index of 'cherry':\", tuple.index(\"cherry\"))\n",
    "\n",
    "print(\"First 3 elements:\", tuple[:3])\n"
   ]
  },
  {
   "cell_type": "code",
   "execution_count": 6,
   "id": "c0795b9b-534e-44b0-87e9-9569c07278bd",
   "metadata": {},
   "outputs": [
    {
     "name": "stdout",
     "output_type": "stream",
     "text": [
      "Sorted List: [1, 2, 3, 4]\n",
      "Sorted Set: [1, 2, 5, 7]\n",
      "Sorted Tuple: [2, 3, 6, 9]\n"
     ]
    }
   ],
   "source": [
    "my_list = [3, 1, 4, 2]\n",
    "my_set = {7, 2, 5, 1}\n",
    "my_tuple = (9, 3, 6, 2)\n",
    "\n",
    "print(\"Sorted List:\", sorted(my_list))\n",
    "print(\"Sorted Set:\", sorted(my_set)) \n",
    "print(\"Sorted Tuple:\", sorted(my_tuple))  "
   ]
  },
  {
   "cell_type": "code",
   "execution_count": null,
   "id": "bd524006-bd1a-4bc9-b3b1-1c5be8a42512",
   "metadata": {},
   "outputs": [],
   "source": []
  }
 ],
 "metadata": {
  "kernelspec": {
   "display_name": "Python 3 (ipykernel)",
   "language": "python",
   "name": "python3"
  },
  "language_info": {
   "codemirror_mode": {
    "name": "ipython",
    "version": 3
   },
   "file_extension": ".py",
   "mimetype": "text/x-python",
   "name": "python",
   "nbconvert_exporter": "python",
   "pygments_lexer": "ipython3",
   "version": "3.13.5"
  }
 },
 "nbformat": 4,
 "nbformat_minor": 5
}
