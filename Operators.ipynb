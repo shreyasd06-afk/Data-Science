{
 "cells": [
  {
   "cell_type": "markdown",
   "id": "2ef0055c-4ea6-44aa-9843-6365ef6c2730",
   "metadata": {},
   "source": [
    "Name: Shreya Deshmukh\n",
    "Branch:Computer\n",
    "Task:Assignment & Bitwise Operators"
   ]
  },
  {
   "cell_type": "code",
   "execution_count": 1,
   "id": "11049aa4-788c-46e7-8550-e33fb5129162",
   "metadata": {},
   "outputs": [
    {
     "name": "stdout",
     "output_type": "stream",
     "text": [
      "Bitwise AND (a & b): 0\n",
      "Bitwise OR (a | b): 14\n",
      "Bitwise XOR (a ^ b): 14\n",
      "Bitwise NOT (~a): -11\n",
      "Left Shift (a << 1): 20\n",
      "Right Shift (a >> 1): 5\n"
     ]
    }
   ],
   "source": [
    "# Bitwise Operators \n",
    "a = 10  \n",
    "b = 4   \n",
    "\n",
    "print(\"Bitwise AND (a & b):\", a & b)       \n",
    "print(\"Bitwise OR (a | b):\", a | b)       \n",
    "print(\"Bitwise XOR (a ^ b):\", a ^ b)       \n",
    "print(\"Bitwise NOT (~a):\", ~a)           \n",
    "print(\"Left Shift (a << 1):\", a << 1)   \n",
    "print(\"Right Shift (a >> 1):\", a >> 1)    "
   ]
  },
  {
   "cell_type": "code",
   "execution_count": 3,
   "id": "0fd9d2e4-700d-4bef-bb2f-147ef45f5a70",
   "metadata": {},
   "outputs": [
    {
     "name": "stdout",
     "output_type": "stream",
     "text": [
      "Initial x: 5\n",
      "After x += 3: 8\n",
      "After x -= 2: 6\n",
      "After x *= 4: 24\n",
      "After x /= 3: 8.0\n",
      "After x %= 2: 0.0\n",
      "After x //= 2: 2\n",
      "After x **= 3: 27\n",
      "After x &= 3: 1\n",
      "After x |= 2: 3\n",
      "After x ^= 1: 2\n",
      "After x <<= 1: 4\n",
      "After x >>= 1: 2\n"
     ]
    }
   ],
   "source": [
    "# Assignment Operators\n",
    "x = 5\n",
    "print(\"Initial x:\", x)\n",
    "\n",
    "x += 3\n",
    "print(\"After x += 3:\", x)\n",
    "\n",
    "x -= 2\n",
    "print(\"After x -= 2:\", x)\n",
    "\n",
    "x *= 4\n",
    "print(\"After x *= 4:\", x)\n",
    "\n",
    "x /= 3\n",
    "print(\"After x /= 3:\", x)\n",
    "\n",
    "x %= 2\n",
    "print(\"After x %= 2:\", x)\n",
    "\n",
    "x = 5  # Reset value\n",
    "x //= 2\n",
    "print(\"After x //= 2:\", x)\n",
    "\n",
    "x = 3\n",
    "x **= 3\n",
    "print(\"After x **= 3:\", x)\n",
    "\n",
    "x = 5\n",
    "x &= 3\n",
    "print(\"After x &= 3:\", x)\n",
    "\n",
    "x |= 2\n",
    "print(\"After x |= 2:\", x)\n",
    "\n",
    "x ^= 1\n",
    "print(\"After x ^= 1:\", x)\n",
    "\n",
    "x <<= 1\n",
    "print(\"After x <<= 1:\", x)\n",
    "\n",
    "x >>= 1\n",
    "print(\"After x >>= 1:\", x)"
   ]
  },
  {
   "cell_type": "code",
   "execution_count": null,
   "id": "b367854c-04e5-47dc-8d41-9b98daf1e519",
   "metadata": {},
   "outputs": [],
   "source": []
  }
 ],
 "metadata": {
  "kernelspec": {
   "display_name": "Python 3 (ipykernel)",
   "language": "python",
   "name": "python3"
  },
  "language_info": {
   "codemirror_mode": {
    "name": "ipython",
    "version": 3
   },
   "file_extension": ".py",
   "mimetype": "text/x-python",
   "name": "python",
   "nbconvert_exporter": "python",
   "pygments_lexer": "ipython3",
   "version": "3.13.5"
  }
 },
 "nbformat": 4,
 "nbformat_minor": 5
}
