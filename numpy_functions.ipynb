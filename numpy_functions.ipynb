{
 "cells": [
  {
   "cell_type": "markdown",
   "id": "10a2dc6f-2b2e-468c-b023-018801e0b83f",
   "metadata": {},
   "source": [
    "Name: Shreya Deshmukh \n",
    "Branch:Computer \n",
    "Task:Numpy functions"
   ]
  },
  {
   "cell_type": "code",
   "execution_count": 2,
   "id": "518a2a25-0aa1-4ba0-942a-8b62038883dd",
   "metadata": {},
   "outputs": [],
   "source": [
    "import numpy as np"
   ]
  },
  {
   "cell_type": "code",
   "execution_count": 8,
   "id": "dd56a248-36b9-4175-bd2c-4657213fef24",
   "metadata": {},
   "outputs": [
    {
     "name": "stdout",
     "output_type": "stream",
     "text": [
      "Array a: [10 20 30 40]\n",
      "Array b:\n",
      " [[1 2]\n",
      " [3 4]]\n",
      "Sum of a: 100\n",
      "Max of b: 4\n",
      "Min of b: 1\n",
      "Square root of a: [3.16227766 4.47213595 5.47722558 6.32455532]\n",
      "Log of a: [2.30258509 2.99573227 3.40119738 3.68887945]\n",
      "Exponential of a: [2.20264658e+04 4.85165195e+08 1.06864746e+13 2.35385267e+17]\n",
      "Flattened b: [1 2 3 4]\n",
      "Size of b: 4\n",
      "Shape of b: (2, 2)\n",
      "Dimensions of b: 2\n"
     ]
    }
   ],
   "source": [
    "import numpy as np\n",
    "\n",
    "a = np.array([10, 20, 30, 40])\n",
    "b = np.array([[1, 2], [3, 4]])\n",
    "\n",
    "sum_a = np.sum(a)\n",
    "max_b = np.max(b)\n",
    "min_b = np.min(b)\n",
    "sqrt_a = np.sqrt(a)\n",
    "log_a = np.log(a)\n",
    "exp_a = np.exp(a)\n",
    "flatten_b = b.flatten()\n",
    "size_b = np.size(b)\n",
    "shape_b = np.shape(b)\n",
    "ndim_b = np.ndim(b)\n",
    "\n",
    "print(\"Array a:\", a)\n",
    "print(\"Array b:\\n\", b)\n",
    "print(\"Sum of a:\", sum_a)\n",
    "print(\"Max of b:\", max_b)\n",
    "print(\"Min of b:\", min_b)\n",
    "print(\"Square root of a:\", sqrt_a)\n",
    "print(\"Log of a:\", log_a)\n",
    "print(\"Exponential of a:\", exp_a)\n",
    "print(\"Flattened b:\", flatten_b)\n",
    "print(\"Size of b:\", size_b)\n",
    "print(\"Shape of b:\", shape_b)\n",
    "print(\"Dimensions of b:\", ndim_b)"
   ]
  },
  {
   "cell_type": "code",
   "execution_count": null,
   "id": "e5f197b4-9a67-4943-95dd-1ea85c6aa6d4",
   "metadata": {},
   "outputs": [],
   "source": []
  }
 ],
 "metadata": {
  "kernelspec": {
   "display_name": "Python 3 (ipykernel)",
   "language": "python",
   "name": "python3"
  },
  "language_info": {
   "codemirror_mode": {
    "name": "ipython",
    "version": 3
   },
   "file_extension": ".py",
   "mimetype": "text/x-python",
   "name": "python",
   "nbconvert_exporter": "python",
   "pygments_lexer": "ipython3",
   "version": "3.13.5"
  }
 },
 "nbformat": 4,
 "nbformat_minor": 5
}
