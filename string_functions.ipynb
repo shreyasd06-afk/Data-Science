{
 "cells": [
  {
   "cell_type": "markdown",
   "id": "ab7cda86-e00d-4495-ab3f-f8f281503e3b",
   "metadata": {},
   "source": [
    "Name: Shreya Deshmukh\n",
    "Branch:Computer\n",
    "Task:String Functions"
   ]
  },
  {
   "cell_type": "code",
   "execution_count": 1,
   "id": "a199a8a9-2b37-4f70-baea-43add6736631",
   "metadata": {},
   "outputs": [
    {
     "name": "stdout",
     "output_type": "stream",
     "text": [
      "1. strip(): Hello, World! Welcome to Python programming.\n",
      "2. lower():   hello, world! welcome to python programming.  \n",
      "3. upper():   HELLO, WORLD! WELCOME TO PYTHON PROGRAMMING.  \n",
      "4. title():   Hello, World! Welcome To Python Programming.  \n",
      "5. capitalize():   hello, world! welcome to python programming.  \n",
      "6. find('Python'): 27\n",
      "7. replace('World', 'Universe'):   Hello, Universe! Welcome to Python programming.  \n",
      "8. split(): ['Hello,', 'World!', 'Welcome', 'to', 'Python', 'programming.']\n",
      "9. join(): Join these words\n",
      "10. count('o'): 6\n",
      "11. startswith('  Hello'): True\n",
      "12. endswith('.'): True\n",
      "13. isalpha() on 'Python': True\n",
      "14. isdigit() on '12345': True\n",
      "15. swapcase():   hELLO, wORLD! wELCOME TO pYTHON PROGRAMMING.  \n",
      "16. encode(): b'  Hello, World! Welcome to Python programming.  '\n",
      "17. zfill() on '45': 00045\n",
      "18. rjust(20): --------------Python\n",
      "19. casefold(): strasse\n",
      "20. removeprefix('Python_'): Programming\n",
      "    removesuffix('ming'): Python_Program\n"
     ]
    }
   ],
   "source": [
    "text = \"  Hello, World! Welcome to Python programming.  \"\n",
    "\n",
    "print(\"1. strip():\", text.strip())\n",
    "print(\"2. lower():\", text.lower())\n",
    "print(\"3. upper():\", text.upper())\n",
    "print(\"4. title():\", text.title())\n",
    "print(\"5. capitalize():\", text.capitalize())\n",
    "print(\"6. find('Python'):\", text.find(\"Python\"))\n",
    "print(\"7. replace('World', 'Universe'):\", text.replace(\"World\", \"Universe\"))\n",
    "print(\"8. split():\", text.split())\n",
    "words = ['Join', 'these', 'words']\n",
    "print(\"9. join():\", ' '.join(words))\n",
    "print(\"10. count('o'):\", text.count('o'))\n",
    "print(\"11. startswith('  Hello'):\", text.startswith(\"  Hello\"))\n",
    "print(\"12. endswith('.'):\", text.strip().endswith(\".\"))\n",
    "print(\"13. isalpha() on 'Python':\", \"Python\".isalpha())\n",
    "print(\"14. isdigit() on '12345':\", \"12345\".isdigit())\n",
    "print(\"15. swapcase():\", text.swapcase())\n",
    "print(\"16. encode():\", text.encode())\n",
    "print(\"17. zfill() on '45':\", \"45\".zfill(5))\n",
    "print(\"18. rjust(20):\", \"Python\".rjust(20, '-'))\n",
    "print(\"19. casefold():\", \"Straße\".casefold())\n",
    "new_text = \"Python_Programming\"\n",
    "print(\"20. removeprefix('Python_'):\", new_text.removeprefix(\"Python_\"))\n",
    "print(\"    removesuffix('ming'):\", new_text.removesuffix(\"ming\"))"
   ]
  },
  {
   "cell_type": "code",
   "execution_count": null,
   "id": "30e9259f-0bc6-4080-aee9-09ecc3040bb5",
   "metadata": {},
   "outputs": [],
   "source": []
  }
 ],
 "metadata": {
  "kernelspec": {
   "display_name": "Python 3 (ipykernel)",
   "language": "python",
   "name": "python3"
  },
  "language_info": {
   "codemirror_mode": {
    "name": "ipython",
    "version": 3
   },
   "file_extension": ".py",
   "mimetype": "text/x-python",
   "name": "python",
   "nbconvert_exporter": "python",
   "pygments_lexer": "ipython3",
   "version": "3.13.5"
  }
 },
 "nbformat": 4,
 "nbformat_minor": 5
}
